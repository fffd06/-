{
 "cells": [
  {
   "cell_type": "code",
   "execution_count": 4,
   "metadata": {},
   "outputs": [
    {
     "name": "stdout",
     "output_type": "stream",
     "text": [
      "음수입니다\n"
     ]
    }
   ],
   "source": [
    "#4.\n",
    "num = int(input(\"수를 입력하세요: \"))\n",
    "if num > 0:\n",
    "    print(\"양수입니다\")\n",
    "    if num % 2 == 0:\n",
    "        print(\"짝수입니다\")\n",
    "    else :\n",
    "        print(\"홀수입니다\")\n",
    "else :\n",
    "    print(\"음수입니다\")"
   ]
  },
  {
   "cell_type": "code",
   "execution_count": 2,
   "metadata": {},
   "outputs": [
    {
     "name": "stdout",
     "output_type": "stream",
     "text": [
      "본 영화를 보실 수 있습니다.\n"
     ]
    }
   ],
   "source": [
    "age=int(input(\"나이를 입력하시오: \"))\n",
    "if age >= 15:\n",
    "    print(\"본 영화를 보실 수 있습니다.\")\n",
    "else :\n",
    "    print(\"본 영화를 보실 수 없습니다.\")"
   ]
  }
 ],
 "metadata": {
  "kernelspec": {
   "display_name": "Python 3",
   "language": "python",
   "name": "python3"
  },
  "language_info": {
   "codemirror_mode": {
    "name": "ipython",
    "version": 3
   },
   "file_extension": ".py",
   "mimetype": "text/x-python",
   "name": "python",
   "nbconvert_exporter": "python",
   "pygments_lexer": "ipython3",
   "version": "3.13.1"
  }
 },
 "nbformat": 4,
 "nbformat_minor": 2
}
